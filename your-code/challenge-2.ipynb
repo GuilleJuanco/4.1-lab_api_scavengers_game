{
 "cells": [
  {
   "cell_type": "markdown",
   "id": "threaded-asbestos",
   "metadata": {},
   "source": [
    "# Challenge 2: Count Commits\n",
    "\n",
    "Count how many commits were made in the past week.\n",
    "\n",
    "Obtain all the commits made in the past week via API, which is a JSON array that contains multiple commit objects.\n",
    "\n",
    "Count how many commit objects are contained in the array."
   ]
  },
  {
   "cell_type": "markdown",
   "id": "norwegian-praise",
   "metadata": {},
   "source": [
    "⚠️ **Remember to limit your output before submission**."
   ]
  },
  {
   "cell_type": "code",
   "execution_count": 16,
   "id": "314ff1e4",
   "metadata": {},
   "outputs": [],
   "source": [
    "import json\n",
    "import requests as req\n",
    "import pandas as pd"
   ]
  },
  {
   "cell_type": "code",
   "execution_count": 17,
   "id": "developing-printing",
   "metadata": {},
   "outputs": [],
   "source": [
    "#Your code\n",
    "#Lee password \n",
    "with open('Token.env', 'r') as file:\n",
    "    pass_=file.read()\n",
    "\n",
    "token = {'Authorization': 'token ' + pass_.split(\"\\n\")[0]}"
   ]
  },
  {
   "cell_type": "code",
   "execution_count": 18,
   "id": "590a1958",
   "metadata": {},
   "outputs": [],
   "source": [
    "#Pilla URL\n",
    "url = 'https://api.github.com/repos/ironhack-datalabs/datamad1020-rev/commits'\n",
    "\n",
    "#Pilla acceso\n",
    "par = {'since': '2022-04-24'}\n",
    "\n",
    "res_git = req.get(url, headers=token, params=par) "
   ]
  },
  {
   "cell_type": "code",
   "execution_count": 19,
   "id": "6246975e",
   "metadata": {},
   "outputs": [
    {
     "data": {
      "text/plain": [
       "[{'sha': '50581734c624a4d60851f59ed028d32b43f09997',\n",
       "  'node_id': 'C_kwDOEiJ229oAKDUwNTgxNzM0YzYyNGE0ZDYwODUxZjU5ZWQwMjhkMzJiNDNmMDk5OTc',\n",
       "  'commit': {'author': {'name': 'Fernando Costa',\n",
       "    'email': '54676992+breogann@users.noreply.github.com',\n",
       "    'date': '2022-07-21T16:02:45Z'},\n",
       "   'committer': {'name': 'GitHub',\n",
       "    'email': 'noreply@github.com',\n",
       "    'date': '2022-07-21T16:02:45Z'},\n",
       "   'message': 'ola',\n",
       "   'tree': {'sha': '20b07f12dcd6b74d8fcd3dc2647cf93cbb5544aa',\n",
       "    'url': 'https://api.github.com/repos/ironhack-datalabs/datamad1020-rev/git/trees/20b07f12dcd6b74d8fcd3dc2647cf93cbb5544aa'},\n",
       "   'url': 'https://api.github.com/repos/ironhack-datalabs/datamad1020-rev/git/commits/50581734c624a4d60851f59ed028d32b43f09997',\n",
       "   'comment_count': 0,\n",
       "   'verification': {'verified': True,\n",
       "    'reason': 'valid',\n",
       "    'signature': '-----BEGIN PGP SIGNATURE-----\\n\\nwsBcBAABCAAQBQJi2XilCRBK7hj4Ov3rIwAAvp8IAKDrvJ869zXa6ASC+MwJ1mbd\\n1Br7nv8T61SR90nrH+PrgUo1W570aQcT4fO/5yRmVThWF90APu5Y7ycfX4gfFIcO\\n1iK+fSisJ8uY7BDIkmaTb/T42GXTS9bkbZXz17Sv5OrbfRDUsiHLUX5app4utuIx\\n7p5sPTTqZ1p4f8gi9fgsuXtwnTCI8d/brH+Q1iqSI0QOxV9lpfC9Ffj6gBWuCTsI\\nske4ylfVjnoQdlx6k11AvQif1DhoyabVodXx/mezlW+5kS9YVFcKgihe+ymwyifS\\nwT8ppgwcdgii8wn1URcJiky37RNVNYeMLZqCiz/4qs1DfQwNG3vSto6eTmk74jo=\\n=t7N6\\n-----END PGP SIGNATURE-----\\n',\n",
       "    'payload': 'tree 20b07f12dcd6b74d8fcd3dc2647cf93cbb5544aa\\nparent f61a35d1016bfc11bb53e8d844db395fc6c4933d\\nauthor Fernando Costa <54676992+breogann@users.noreply.github.com> 1658419365 +0200\\ncommitter GitHub <noreply@github.com> 1658419365 +0200\\n\\nola'}},\n",
       "  'url': 'https://api.github.com/repos/ironhack-datalabs/datamad1020-rev/commits/50581734c624a4d60851f59ed028d32b43f09997',\n",
       "  'html_url': 'https://github.com/ironhack-datalabs/datamad1020-rev/commit/50581734c624a4d60851f59ed028d32b43f09997',\n",
       "  'comments_url': 'https://api.github.com/repos/ironhack-datalabs/datamad1020-rev/commits/50581734c624a4d60851f59ed028d32b43f09997/comments',\n",
       "  'author': {'login': 'breogann',\n",
       "   'id': 54676992,\n",
       "   'node_id': 'MDQ6VXNlcjU0Njc2OTky',\n",
       "   'avatar_url': 'https://avatars.githubusercontent.com/u/54676992?v=4',\n",
       "   'gravatar_id': '',\n",
       "   'url': 'https://api.github.com/users/breogann',\n",
       "   'html_url': 'https://github.com/breogann',\n",
       "   'followers_url': 'https://api.github.com/users/breogann/followers',\n",
       "   'following_url': 'https://api.github.com/users/breogann/following{/other_user}',\n",
       "   'gists_url': 'https://api.github.com/users/breogann/gists{/gist_id}',\n",
       "   'starred_url': 'https://api.github.com/users/breogann/starred{/owner}{/repo}',\n",
       "   'subscriptions_url': 'https://api.github.com/users/breogann/subscriptions',\n",
       "   'organizations_url': 'https://api.github.com/users/breogann/orgs',\n",
       "   'repos_url': 'https://api.github.com/users/breogann/repos',\n",
       "   'events_url': 'https://api.github.com/users/breogann/events{/privacy}',\n",
       "   'received_events_url': 'https://api.github.com/users/breogann/received_events',\n",
       "   'type': 'User',\n",
       "   'site_admin': False},\n",
       "  'committer': {'login': 'web-flow',\n",
       "   'id': 19864447,\n",
       "   'node_id': 'MDQ6VXNlcjE5ODY0NDQ3',\n",
       "   'avatar_url': 'https://avatars.githubusercontent.com/u/19864447?v=4',\n",
       "   'gravatar_id': '',\n",
       "   'url': 'https://api.github.com/users/web-flow',\n",
       "   'html_url': 'https://github.com/web-flow',\n",
       "   'followers_url': 'https://api.github.com/users/web-flow/followers',\n",
       "   'following_url': 'https://api.github.com/users/web-flow/following{/other_user}',\n",
       "   'gists_url': 'https://api.github.com/users/web-flow/gists{/gist_id}',\n",
       "   'starred_url': 'https://api.github.com/users/web-flow/starred{/owner}{/repo}',\n",
       "   'subscriptions_url': 'https://api.github.com/users/web-flow/subscriptions',\n",
       "   'organizations_url': 'https://api.github.com/users/web-flow/orgs',\n",
       "   'repos_url': 'https://api.github.com/users/web-flow/repos',\n",
       "   'events_url': 'https://api.github.com/users/web-flow/events{/privacy}',\n",
       "   'received_events_url': 'https://api.github.com/users/web-flow/received_events',\n",
       "   'type': 'User',\n",
       "   'site_admin': False},\n",
       "  'parents': [{'sha': 'f61a35d1016bfc11bb53e8d844db395fc6c4933d',\n",
       "    'url': 'https://api.github.com/repos/ironhack-datalabs/datamad1020-rev/commits/f61a35d1016bfc11bb53e8d844db395fc6c4933d',\n",
       "    'html_url': 'https://github.com/ironhack-datalabs/datamad1020-rev/commit/f61a35d1016bfc11bb53e8d844db395fc6c4933d'}]}]"
      ]
     },
     "execution_count": 19,
     "metadata": {},
     "output_type": "execute_result"
    }
   ],
   "source": [
    "preg = res_git.json()\n",
    "\n",
    "preg"
   ]
  },
  {
   "cell_type": "code",
   "execution_count": 22,
   "id": "ae02dca0",
   "metadata": {},
   "outputs": [
    {
     "data": {
      "text/plain": [
       "1"
      ]
     },
     "execution_count": 22,
     "metadata": {},
     "output_type": "execute_result"
    }
   ],
   "source": [
    "#Commits totales desde el lunes de la semana pasada.\n",
    "commits = [e for e in preg]\n",
    "len(commits)"
   ]
  },
  {
   "cell_type": "code",
   "execution_count": 23,
   "id": "033d736c",
   "metadata": {},
   "outputs": [
    {
     "data": {
      "text/plain": [
       "30"
      ]
     },
     "execution_count": 23,
     "metadata": {},
     "output_type": "execute_result"
    }
   ],
   "source": [
    "#Mismo proceso con total de commits para ver la diferencia.\n",
    "res_git = req.get(url, headers=token)\n",
    "\n",
    "preg = res_git.json()\n",
    "\n",
    "commits = [e for e in preg]\n",
    "\n",
    "len(commits)"
   ]
  }
 ],
 "metadata": {
  "kernelspec": {
   "display_name": "Python 3",
   "language": "python",
   "name": "python3"
  },
  "language_info": {
   "codemirror_mode": {
    "name": "ipython",
    "version": 3
   },
   "file_extension": ".py",
   "mimetype": "text/x-python",
   "name": "python",
   "nbconvert_exporter": "python",
   "pygments_lexer": "ipython3",
   "version": "3.9.13"
  },
  "toc": {
   "base_numbering": 1,
   "nav_menu": {},
   "number_sections": true,
   "sideBar": true,
   "skip_h1_title": true,
   "title_cell": "Table of Contents",
   "title_sidebar": "Contents",
   "toc_cell": false,
   "toc_position": {
    "height": "calc(100% - 180px)",
    "left": "10px",
    "top": "150px",
    "width": "288px"
   },
   "toc_section_display": true,
   "toc_window_display": true
  }
 },
 "nbformat": 4,
 "nbformat_minor": 5
}
